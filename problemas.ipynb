{
 "cells": [
  {
   "cell_type": "markdown",
   "id": "974d4f4e",
   "metadata": {},
   "source": [
    "Aquí tienes 4 problemas de examen bien definidos, equilibrados entre teoría y aplicación, basados en el contenido proporcionado:\n",
    "\n",
    "---\n",
    "\n",
    "### **Problema 1 (Teórico - Métodos Abiertos)**  \n",
    "Explique las diferencias fundamentales entre los **métodos de intervalo** (como bisección) y los **métodos abiertos** (como Newton-Raphson) para resolver ecuaciones no lineales. Incluya en su respuesta:  \n",
    "1. Garantía de convergencia.  \n",
    "2. Velocidad de convergencia (orden).  \n",
    "3. Requerimientos de información sobre la función (ej: derivadas).  \n",
    "4. Estabilidad numérica.  \n",
    "\n",
    "---\n",
    "\n",
    "### **Problema 2 (Aplicación - Newton-Raphson)**  \n",
    "Dada la función $f(x) = e^{-x} - \\ln(x)$:  \n",
    "1. Derive la fórmula de iteración para el método de Newton-Raphson ($x_{k+1}$ en términos de $x_k$).  \n",
    "2. Realice **dos iteraciones** del método comenzando con $x_0 = 1.5$. Calcule el error relativo porcentual en cada paso.  \n",
    "3. ¿Por qué este método podría no converger si $x_0$ se elige muy cercano a cero?  \n",
    "\n",
    "---\n",
    "\n",
    "### **Problema 3 (Teórico - Convergencia)**  \n",
    "Un estudiante afirma que *\"el método de Newton-Raphson siempre converge cuadráticamente\"*.  \n",
    "1. ¿Es cierta esta afirmación? Justifique su respuesta.  \n",
    "2. Mencione **dos condiciones** necesarias para que el método alcance convergencia cuadrática.  \n",
    "3. Dé un ejemplo de función y punto inicial donde el método **no converja**.  \n",
    "\n",
    "---\n",
    "\n",
    "### **Problema 4 (Aplicación - Comparación de Métodos)**  \n",
    "Se quiere encontrar la raíz de $f(x) = x^3 - 2x - 5$ en $[2, 3]$:  \n",
    "1. **Bisección**: Calcule el número mínimo de iteraciones necesarias para alcanzar un error absoluto menor a $0.001$.  \n",
    "2. **Newton-Raphson**: Realice una iteración con $x_0 = 2.5$ (use $f'(x) = 3x^2 - 2$).  \n",
    "3. Compare la eficiencia de ambos métodos en términos de evaluaciones de función por iteración.  \n",
    "\n",
    "---\n",
    "\n",
    "**Notas:**  \n",
    "- Los problemas cubren conceptos clave: convergencia, estabilidad, aplicaciones y comparaciones.  \n",
    "- Se incluyen ecuaciones en LaTeX y preguntas que requieren análisis crítico.  \n",
    "- El Problema 4 es especialmente útil para evaluar comprensión práctica y teórica combinada.  \n",
    "\n",
    "¿Necesitas alguna variación o ajuste en la dificultad?"
   ]
  },
  {
   "cell_type": "code",
   "execution_count": null,
   "id": "713ab950",
   "metadata": {},
   "outputs": [],
   "source": []
  }
 ],
 "metadata": {
  "kernelspec": {
   "display_name": "Python 3 (ipykernel)",
   "language": "python",
   "name": "python3"
  },
  "language_info": {
   "codemirror_mode": {
    "name": "ipython",
    "version": 3
   },
   "file_extension": ".py",
   "mimetype": "text/x-python",
   "name": "python",
   "nbconvert_exporter": "python",
   "pygments_lexer": "ipython3",
   "version": "3.10.12"
  }
 },
 "nbformat": 4,
 "nbformat_minor": 5
}
